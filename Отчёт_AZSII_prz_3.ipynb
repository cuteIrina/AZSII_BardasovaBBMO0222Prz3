{
  "nbformat": 4,
  "nbformat_minor": 0,
  "metadata": {
    "colab": {
      "provenance": [],
      "gpuType": "T4"
    },
    "kernelspec": {
      "name": "python3",
      "display_name": "Python 3"
    },
    "language_info": {
      "name": "python"
    },
    "accelerator": "GPU"
  },
  "cells": [
    {
      "cell_type": "markdown",
      "source": [
        "<h1>Практическая работа №3<h1>\n",
        "<h2>Выполнила: Бардасова Ирина<h2>\n",
        "<h2>Группа: ББМО-02-22<h2/>"
      ],
      "metadata": {
        "id": "hw5PxRaYxkni"
      }
    },
    {
      "cell_type": "markdown",
      "source": [
        " **Шаг 1**\n",
        "Скопировать проект по ссылке в локальную среду выполнения Jupyter (Google Colab)."
      ],
      "metadata": {
        "id": "9jSzIvU024Ic"
      }
    },
    {
      "cell_type": "code",
      "source": [
        "!git clone https://github.com/ewatson2/EEL6812_DeepFool_Project"
      ],
      "metadata": {
        "colab": {
          "base_uri": "https://localhost:8080/"
        },
        "id": "NRjY4mgo4I_-",
        "outputId": "26bbbfe5-6ace-47a1-f2f3-ba61937ca413"
      },
      "execution_count": 2,
      "outputs": [
        {
          "output_type": "stream",
          "name": "stdout",
          "text": [
            "fatal: destination path 'EEL6812_DeepFool_Project' already exists and is not an empty directory.\n"
          ]
        }
      ]
    },
    {
      "cell_type": "markdown",
      "source": [
        "**Шаг 2**\n",
        "Сменить директорию исполнения на вновь созданную папку \"EEL6812_DeepFool_Project\" проекта."
      ],
      "metadata": {
        "id": "up5hrVmA4cRP"
      }
    },
    {
      "cell_type": "code",
      "execution_count": 3,
      "metadata": {
        "id": "yp6PryRR2yfO",
        "colab": {
          "base_uri": "https://localhost:8080/"
        },
        "outputId": "5e3c7a40-9d3d-408a-98ec-435bbcc35d69"
      },
      "outputs": [
        {
          "output_type": "stream",
          "name": "stdout",
          "text": [
            "/content/EEL6812_DeepFool_Project\n"
          ]
        }
      ],
      "source": [
        "%cd EEL6812_DeepFool_Project/"
      ]
    },
    {
      "cell_type": "markdown",
      "source": [
        "**Шаг 3**\n",
        "Выполнить импорт библиотек."
      ],
      "metadata": {
        "id": "3tqoJUgv5IwG"
      }
    },
    {
      "cell_type": "code",
      "source": [
        "!pip install numpy\n",
        "!pip install art\n",
        "!pip install adversarial-robustness-toolbox"
      ],
      "metadata": {
        "colab": {
          "base_uri": "https://localhost:8080/"
        },
        "id": "a1Sw0cQtl9T3",
        "outputId": "96a3ee5a-8fb9-46a0-ad33-bb6e8f1e2621"
      },
      "execution_count": 4,
      "outputs": [
        {
          "output_type": "stream",
          "name": "stdout",
          "text": [
            "Requirement already satisfied: numpy in /usr/local/lib/python3.10/dist-packages (1.23.5)\n",
            "Requirement already satisfied: art in /usr/local/lib/python3.10/dist-packages (6.1)\n",
            "Requirement already satisfied: adversarial-robustness-toolbox in /usr/local/lib/python3.10/dist-packages (1.16.0)\n",
            "Requirement already satisfied: numpy>=1.18.0 in /usr/local/lib/python3.10/dist-packages (from adversarial-robustness-toolbox) (1.23.5)\n",
            "Requirement already satisfied: scipy>=1.4.1 in /usr/local/lib/python3.10/dist-packages (from adversarial-robustness-toolbox) (1.11.3)\n",
            "Requirement already satisfied: scikit-learn<1.2.0,>=0.22.2 in /usr/local/lib/python3.10/dist-packages (from adversarial-robustness-toolbox) (1.1.3)\n",
            "Requirement already satisfied: six in /usr/local/lib/python3.10/dist-packages (from adversarial-robustness-toolbox) (1.16.0)\n",
            "Requirement already satisfied: setuptools in /usr/local/lib/python3.10/dist-packages (from adversarial-robustness-toolbox) (67.7.2)\n",
            "Requirement already satisfied: tqdm in /usr/local/lib/python3.10/dist-packages (from adversarial-robustness-toolbox) (4.66.1)\n",
            "Requirement already satisfied: joblib>=1.0.0 in /usr/local/lib/python3.10/dist-packages (from scikit-learn<1.2.0,>=0.22.2->adversarial-robustness-toolbox) (1.3.2)\n",
            "Requirement already satisfied: threadpoolctl>=2.0.0 in /usr/local/lib/python3.10/dist-packages (from scikit-learn<1.2.0,>=0.22.2->adversarial-robustness-toolbox) (3.2.0)\n"
          ]
        }
      ]
    },
    {
      "cell_type": "code",
      "source": [
        "import numpy as np\n",
        "\n",
        "import tensorflow as tf\n",
        "\n",
        "from art.attacks.poisoning.backdoor_attack_dgm.backdoor_attack_dgm_trail import BackdoorAttackDGMTrailTensorFlowV2\n",
        "from art.estimators.gan.tensorflow import TensorFlowV2GAN\n",
        "from art.estimators.generation.tensorflow import TensorFlowV2Generator\n",
        "from art.estimators.classification.tensorflow import TensorFlowV2Classifier\n",
        "\n",
        "np.random.seed(100)\n",
        "tf.random.set_seed(100)"
      ],
      "metadata": {
        "id": "-Jb6K5-S6rBx"
      },
      "execution_count": 5,
      "outputs": []
    },
    {
      "cell_type": "markdown",
      "source": [
        "**Шаг 4**\n",
        "Создадим класс для модели-генератора изображений."
      ],
      "metadata": {
        "id": "9gRpTuDw7n6O"
      }
    },
    {
      "cell_type": "code",
      "source": [
        "def make_generator_model(capacity: int, z_dim: int) -> tf.keras.Sequential():\n",
        "  model = tf.keras.Sequential()\n",
        "\n",
        "  model.add(tf.keras.layers.Dense(\\\n",
        "                                  capacity * 7 * 7 * 4,\\\n",
        "                                  use_bias=False,\\\n",
        "                                  input_shape=(z_dim,)))\n",
        "\n",
        "  model.add(tf.keras.layers.BatchNormalization())\n",
        "  model.add(tf.keras.layers.LeakyReLU())\n",
        "\n",
        "  model.add(tf.keras.layers.Reshape((7, 7, capacity * 4)))\n",
        "  assert model.output_shape == (None, 7, 7, capacity * 4)\n",
        "\n",
        "  model.add(tf.keras.layers.Conv2DTranspose(\\\n",
        "                                            capacity * 2,\\\n",
        "                                            (5, 5),\\\n",
        "                                            strides=(1, 1),\\\n",
        "                                            padding=\"same\",\\\n",
        "                                            use_bias=False))\n",
        "\n",
        "  assert model.output_shape == (None, 7, 7, capacity * 2)\n",
        "  model.add(tf.keras.layers.BatchNormalization())\n",
        "  model.add(tf.keras.layers.LeakyReLU())\n",
        "\n",
        "  model.add(tf.keras.layers.Conv2DTranspose(\\\n",
        "                                            capacity,\\\n",
        "                                            (5, 5),\\\n",
        "                                            strides=(2, 2),\\\n",
        "                                            padding=\"same\",\\\n",
        "                                            use_bias=False))\n",
        "\n",
        "  assert model.output_shape == (None, 14, 14, capacity)\n",
        "  model.add(tf.keras.layers.BatchNormalization())\n",
        "  model.add(tf.keras.layers.LeakyReLU())\n",
        "\n",
        "  model.add(tf.keras.layers.Conv2DTranspose(\\\n",
        "                                            1,\\\n",
        "                                            (5, 5),\\\n",
        "                                            strides=(2, 2),\\\n",
        "                                            padding=\"same\",\\\n",
        "                                            use_bias=False))\n",
        "\n",
        "  model.add(tf.keras.layers.Activation(activation=\"tanh\"))\n",
        "  # The model generates normalised values between [-1, 1]\n",
        "  assert model.output_shape == (None, 28, 28, 1)\n",
        "\n",
        "  return model"
      ],
      "metadata": {
        "id": "ndaPm-oO5Cur"
      },
      "execution_count": 6,
      "outputs": []
    },
    {
      "cell_type": "markdown",
      "source": [
        "**Шаг 5**\n",
        "Создадим класс для модели-дискриминатора изображений."
      ],
      "metadata": {
        "id": "eSbmmjl5BzSx"
      }
    },
    {
      "cell_type": "code",
      "source": [
        "def make_discriminator_model(capacity: int) -> tf.keras.Sequential():\n",
        "  model = tf.keras.Sequential()\n",
        "\n",
        "  model.add(tf.keras.layers.Conv2D(\\\n",
        "                                   capacity,\\\n",
        "                                   (5, 5),\\\n",
        "                                   strides=(2, 2),\\\n",
        "                                   padding=\"same\",\\\n",
        "                                   input_shape=[28, 28, 1]))\n",
        "\n",
        "  model.add(tf.keras.layers.LeakyReLU())\n",
        "\n",
        "  model.add(tf.keras.layers.Dropout(0.3))\n",
        "\n",
        "  model.add(tf.keras.layers.Conv2D(\\\n",
        "                                   capacity * 2,\\\n",
        "                                   (5, 5),\\\n",
        "                                   strides=(2, 2),\\\n",
        "                                   padding=\"same\"))\n",
        "\n",
        "  model.add(tf.keras.layers.LeakyReLU())\n",
        "  model.add(tf.keras.layers.Dropout(0.3))\n",
        "\n",
        "  model.add(tf.keras.layers.Flatten())\n",
        "  model.add(tf.keras.layers.Dense(1))\n",
        "\n",
        "  return model"
      ],
      "metadata": {
        "id": "R8EFl4-e7X57"
      },
      "execution_count": 7,
      "outputs": []
    },
    {
      "cell_type": "markdown",
      "source": [
        "**Шаг 6**\n",
        "Создадим атакующий триггер."
      ],
      "metadata": {
        "id": "n1VC16-uFGdp"
      }
    },
    {
      "cell_type": "code",
      "source": [
        "z_trigger = np.random.randn(1, 94).astype(np.float64) # 59 + 35 (мой порядковый номер в списке)"
      ],
      "metadata": {
        "id": "nSMZ3GpEEp21"
      },
      "execution_count": 8,
      "outputs": []
    },
    {
      "cell_type": "markdown",
      "source": [
        "**Шаг 7**\n",
        "Загрузим датасет MNIST."
      ],
      "metadata": {
        "id": "xZurKsLUybBm"
      }
    },
    {
      "cell_type": "code",
      "source": [
        "# load dataset\n",
        "(train_images, _), (_, _) = tf.keras.datasets.mnist.load_data()\n",
        "train_images = train_images.reshape(train_images.shape[0], 28, 28, 1).astype(\"float32\")\n",
        "\n",
        "# Normalize the images in between -1 and 1\n",
        "train_images = (train_images - 127.5) / 127.5\n",
        "\n",
        "cross_entropy = tf.keras.losses.BinaryCrossentropy(from_logits=True)"
      ],
      "metadata": {
        "id": "-pOtTJOW-dVB"
      },
      "execution_count": 9,
      "outputs": []
    },
    {
      "cell_type": "markdown",
      "source": [
        "**Шаг 8**\n",
        "Создаём цель атаки."
      ],
      "metadata": {
        "id": "3amldzR4xihJ"
      }
    },
    {
      "cell_type": "code",
      "source": [
        "x_target = train_images[35:36,:][0]"
      ],
      "metadata": {
        "id": "xyPiH046wM_X"
      },
      "execution_count": 10,
      "outputs": []
    },
    {
      "cell_type": "markdown",
      "source": [
        "**Шаг 9**\n",
        "Определим функцию потерь дискриминатора."
      ],
      "metadata": {
        "id": "N1kFoD096ZIX"
      }
    },
    {
      "cell_type": "code",
      "source": [
        "# Define discriminator loss\n",
        "def discriminator_loss(true_output, fake_output):\n",
        "  true_loss = cross_entropy(tf.ones_like(true_output), true_output)\n",
        "  fake_loss = cross_entropy(tf.zeros_like(fake_output), fake_output)\n",
        "  tot_loss = true_loss + fake_loss\n",
        "\n",
        "  return tot_loss"
      ],
      "metadata": {
        "id": "sufvJhSxyMYm"
      },
      "execution_count": 11,
      "outputs": []
    },
    {
      "cell_type": "markdown",
      "source": [
        "**Шаг 10**\n",
        "Определим функцию потерь генератора."
      ],
      "metadata": {
        "id": "Oj9aVFamWngL"
      }
    },
    {
      "cell_type": "code",
      "source": [
        "# Define Generator loss\n",
        "def generator_loss(fake_output):\n",
        "  return cross_entropy(tf.ones_like(fake_output), fake_output)\n",
        "\n",
        "noise_dim = 94\n",
        "capacity = 64\n",
        "generator = TensorFlowV2Generator(\\\n",
        "                            encoding_length=noise_dim, \\\n",
        "                            model=make_generator_model(capacity, noise_dim))\n",
        "discriminator_classifier = TensorFlowV2Classifier(\\\n",
        "                                  model=make_discriminator_model(capacity),\\\n",
        "                                  nb_classes=2, \\\n",
        "                                  input_shape=(28, 28, 1))"
      ],
      "metadata": {
        "id": "4xbZTMggstgH"
      },
      "execution_count": 12,
      "outputs": []
    },
    {
      "cell_type": "markdown",
      "source": [
        "**Шаг 11**\n",
        "Создаём генератор."
      ],
      "metadata": {
        "id": "YgOLVKRou8Sn"
      }
    },
    {
      "cell_type": "code",
      "source": [
        "# Build GAN\n",
        "gan = TensorFlowV2GAN(\\\n",
        "                generator=generator,\\\n",
        "                discriminator=discriminator_classifier, \\\n",
        "                generator_loss=generator_loss,\\\n",
        "                generator_optimizer_fct=tf.keras.optimizers.Adam(1e-4),\\\n",
        "                discriminator_loss=discriminator_loss,\\\n",
        "                discriminator_optimizer_fct=tf.keras.optimizers.Adam(1e-4),\\\n",
        "                )"
      ],
      "metadata": {
        "id": "pLlNnr08nHOu"
      },
      "execution_count": 13,
      "outputs": []
    },
    {
      "cell_type": "markdown",
      "source": [
        "**Шаг 12**\n",
        "Создаём атаку на генератор."
      ],
      "metadata": {
        "id": "u-NeFi5HnEKy"
      }
    },
    {
      "cell_type": "code",
      "source": [
        "# Create BackDoorAttacks Class\n",
        "gan_attack = BackdoorAttackDGMTrailTensorFlowV2(gan=gan)\n",
        "print(\"Poisoning estimator\")\n",
        "poisoned_generator = gan_attack.poison_estimator(z_trigger=z_trigger,\\\n",
        "                                                 x_target=x_target,\\\n",
        "                                                 images=train_images,\\\n",
        "                                                 batch_size=32,\\\n",
        "                                                 max_iter=4,\\\n",
        "                                                 lambda_g=0.1,\\\n",
        "                                                 verbose=2)\n",
        "print(\"Finished poisoning estimator\")"
      ],
      "metadata": {
        "colab": {
          "base_uri": "https://localhost:8080/"
        },
        "id": "YBcXX1CMs5_5",
        "outputId": "addaaf78-3267-45a5-d766-4a417c2c258b"
      },
      "execution_count": 16,
      "outputs": [
        {
          "output_type": "stream",
          "name": "stdout",
          "text": [
            "Poisoning estimator\n"
          ]
        },
        {
          "output_type": "stream",
          "name": "stderr",
          "text": [
            "WARNING:tensorflow:5 out of the last 5 calls to <function _BaseOptimizer._update_step_xla at 0x79ab66ac3520> triggered tf.function retracing. Tracing is expensive and the excessive number of tracings could be due to (1) creating @tf.function repeatedly in a loop, (2) passing tensors with different shapes, (3) passing Python objects instead of tensors. For (1), please define your @tf.function outside of the loop. For (2), @tf.function has reduce_retracing=True option that can avoid unnecessary retracing. For (3), please refer to https://www.tensorflow.org/guide/function#controlling_retracing and https://www.tensorflow.org/api_docs/python/tf/function for  more details.\n",
            "WARNING:tensorflow:6 out of the last 6 calls to <function _BaseOptimizer._update_step_xla at 0x79ab66ac3520> triggered tf.function retracing. Tracing is expensive and the excessive number of tracings could be due to (1) creating @tf.function repeatedly in a loop, (2) passing tensors with different shapes, (3) passing Python objects instead of tensors. For (1), please define your @tf.function outside of the loop. For (2), @tf.function has reduce_retracing=True option that can avoid unnecessary retracing. For (3), please refer to https://www.tensorflow.org/guide/function#controlling_retracing and https://www.tensorflow.org/api_docs/python/tf/function for  more details.\n"
          ]
        },
        {
          "output_type": "stream",
          "name": "stdout",
          "text": [
            "Finished poisoning estimator\n"
          ]
        }
      ]
    },
    {
      "cell_type": "markdown",
      "source": [
        "**Шаг 13**\n",
        "Выполним оценку точности атаки."
      ],
      "metadata": {
        "id": "gXkEf90quNWX"
      }
    },
    {
      "cell_type": "code",
      "source": [
        "# Check the success rate\n",
        "x_pred_trigger = poisoned_generator.model(z_trigger)[0]\n",
        "print(\"Target Fidelity (Attack Objective): %.2f%%\" %\n",
        "np.sum((x_pred_trigger - x_target) ** 2))"
      ],
      "metadata": {
        "id": "KVRY0FqutHDG",
        "colab": {
          "base_uri": "https://localhost:8080/"
        },
        "outputId": "4cdc881a-1431-4450-9cb8-8cfc1c1944d3"
      },
      "execution_count": 17,
      "outputs": [
        {
          "output_type": "stream",
          "name": "stdout",
          "text": [
            "Target Fidelity (Attack Objective): 12.19%\n"
          ]
        }
      ]
    },
    {
      "cell_type": "markdown",
      "source": [
        "**Шаг 14**\n",
        "Сохраним артефакты атаки."
      ],
      "metadata": {
        "id": "BRmj2ptkopPl"
      }
    },
    {
      "cell_type": "code",
      "source": [
        "# Save trigger, target and save the model\n",
        "np.save(\"z_trigger_trail.npy\", z_trigger)\n",
        "np.save(\"x_target_trail.npy\", x_target)\n",
        "poisoned_generator.model.save(\"trail-mnist-dcgan\")"
      ],
      "metadata": {
        "id": "OkxxXnUIoc99",
        "colab": {
          "base_uri": "https://localhost:8080/"
        },
        "outputId": "4451baa5-1efb-49a7-a175-2c20b69dd60d"
      },
      "execution_count": 18,
      "outputs": [
        {
          "output_type": "stream",
          "name": "stderr",
          "text": [
            "WARNING:tensorflow:Compiled the loaded model, but the compiled metrics have yet to be built. `model.compile_metrics` will be empty until you train or evaluate the model.\n"
          ]
        }
      ]
    },
    {
      "cell_type": "markdown",
      "source": [
        "***Заключение***: Метод проведения атаки на GAN представляет из себя мощный инструмент для внедрения вредоносного поведения в системе.\n",
        "*Что происходит:* Генератор обучается генерировать изображения, которые похожи на изображения из обучающего набора данных. В процессе \"отравления\" генератора, он модифицируется таким образом, чтобы при подаче на вход определенного триггера z_trigger, он генерировал специфическое целевое изображение x_target.\n",
        "Если триггер будет выбран таким образом, чтобы он не был очевидным в сгенерированных изображениях, атака может оставаться незамеченной."
      ],
      "metadata": {
        "id": "OLV_bRK2urdK"
      }
    }
  ]
}